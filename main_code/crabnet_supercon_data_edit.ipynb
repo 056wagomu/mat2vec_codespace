{
 "cells": [
  {
   "cell_type": "code",
   "execution_count": 18,
   "metadata": {},
   "outputs": [],
   "source": [
    "#このセルでは、ひとまずSuperconのデータを使ってcrabnetを適当に試してみる"
   ]
  },
  {
   "cell_type": "code",
   "execution_count": 19,
   "metadata": {},
   "outputs": [],
   "source": [
    "import pandas as pd\n",
    "pd.set_option('display.max_rows', 1000)\n",
    "pd.set_option('display.max_columns', 1000)"
   ]
  },
  {
   "cell_type": "code",
   "execution_count": 20,
   "metadata": {},
   "outputs": [
    {
     "name": "stdout",
     "output_type": "stream",
     "text": [
      "data number                                                         0\n",
      "reference number                                                    0\n",
      "comment                                                         18281\n",
      "common formula of materials                                      1518\n",
      "chemical formula                                                    0\n",
      "element name of materials                                           0\n",
      "composition of MA1                                                  0\n",
      "element name of materials.1                                       439\n",
      "composition of MA2                                                454\n",
      "element name of materials.2                                      6699\n",
      "composition of MA3                                               6716\n",
      "element name of materials.3                                     17522\n",
      "composition of MA4                                              17554\n",
      "element name of materials.4                                     27666\n",
      "composition of MA5                                              27683\n",
      "element name of materials.5                                     31900\n",
      "composition of MA6                                              31902\n",
      "element name of materials.6                                     32973\n",
      "composition of MA7                                              32973\n",
      "element name of materials.7                                     33049\n",
      "composition of MA8                                              33049\n",
      "element name of materials.8                                     33063\n",
      "composition of MA9                                              33063\n",
      "element name of materials.9                                     33074\n",
      "composition of MA10                                             33074\n",
      "oxygen                                                          15715\n",
      "common formula of oxygen                                        16387\n",
      "measured value of Oxygen content                                28316\n",
      "shape                                                           17198\n",
      "publication year of reference                                     156\n",
      "unit of KAIZERO                                                 32731\n",
      "temperature independent term in susceptibility                  32730\n",
      "unit of CURIEC                                                  32854\n",
      "Curie constant                                                  32861\n",
      "unit of MOMENT                                                  32510\n",
      "magnetic moment per formula                                     32278\n",
      "Curie temperature                                               31878\n",
      "Neel temperature                                                31585\n",
      "density (gcm-3)                                                 32734\n",
      "unit of hardness                                                33060\n",
      "hardness at 300 K                                               33055\n",
      "unit of Young's modulus                                         33016\n",
      "Young's modulus at 4.2 K                                        33069\n",
      "Young's modulus at 300 K                                        33020\n",
      "unit of shear modulus                                           33016\n",
      "shear modulus at 4.2 K                                          33068\n",
      "shear modulus at 300 K                                          33021\n",
      "unit of bulk modulus                                            32959\n",
      "unit of bulk modulus at 4.2 K                                   33066\n",
      "unit of bulk modulus at 300 K                                   32965\n",
      "Poisson ratio at 4.2 K                                          33069\n",
      "Poisson ratio at 300 K                                          33033\n",
      "unit of sound velocity                                          33067\n",
      "sound velocity at 4.2 K                                         33073\n",
      "sound velocity at 300 K                                         33049\n",
      "figure number for SV(T)                                         27904\n",
      "*crystal structure, symmetry                                    26267\n",
      "common name of structure                                         8587\n",
      "space group                                                     29466\n",
      "international table number                                      32539\n",
      "unit of lattice constant                                        23558\n",
      "lattice constant a                                              20122\n",
      "lattice constant b                                              29581\n",
      "lattice constant c                                              21482\n",
      "*method of analysis for structure                               31439\n",
      "figure number of structure model                                33036\n",
      "unit of D(L)DT                                                  33055\n",
      "temperature dependence of LATA                                  33063\n",
      "temperature dependence of LATB                                  33070\n",
      "temperature dependence of LATC                                  33064\n",
      "unit of D(L)DP                                                  33057\n",
      "pressure dependence of LATA                                     33052\n",
      "pressure dependence of LATB                                     33067\n",
      "pressure dependence of LATC                                     33053\n",
      "comments for structure                                          26744\n",
      "unit of Tc                                                       9270\n",
      "transition temperature (R = 0)                                  29027\n",
      "transition temperature (mid point)                              16148\n",
      "transition temperature (R = 100%)                               28526\n",
      "Tc from susceptibility measurement                              27610\n",
      "lowest temperature for measurement (not superconducting)        28446\n",
      "transition width for resistive transition                       31735\n",
      "Tc (of this sample) recommended                                  7082\n",
      "figure number for Tc(p, x, etc)                                 31069\n",
      "tc measurement method                                           32368\n",
      "unit of DTCDP                                                   32015\n",
      "slope at P = 0 in Tc vs P plot                                  32045\n",
      "maximum pressure applied                                        33059\n",
      "alpha in Tc = A * M^(-alpha), isotope effect                    32689\n",
      "isotope element                                                 32727\n",
      "exchange ratio of isotope(%)                                    32856\n",
      "DTC = Tc - Tc0 for isotope element                              32886\n",
      "volume fraction of Meissner effect(%)                           32068\n",
      "unit of Hc1                                                     32511\n",
      "method of Hc1 derivation                                        32702\n",
      "Hc1 at 0 K for poly crystal                                     32632\n",
      "Hc1 at 0 K for single crystal for H //ab-plane                  32999\n",
      "Hc1 at 0 K for single crystal for H //c-axis                    32985\n",
      "Hc1 at given temperature for poly crystal                       32961\n",
      "Hc1 at given temperature for single crystal H//ab-plane         33060\n",
      "Hc1 at given temperature for single crystal H//c-axis           33055\n",
      "measuring temperature                                           32944\n",
      "unit of Hc2                                                     30742\n",
      "method of Hc2 derivation                                        31605\n",
      "Hc2 at 0 K for poly crystal                                     31328\n",
      "Hc2 at 0 K for single crystal for H //ab-plane                  32702\n",
      "Hc2 at 0 K for single crystal for H //c-axis                    32619\n",
      "Hc2 at given temperature for poly crystal                       32949\n",
      "Hc2 at given temperature for single crystal H//ab-plane         33032\n",
      "Hc2 at given temperature for single crystal H//c-axis           33035\n",
      "measuring temperature.1                                         32898\n",
      "unit of dHc2/dT                                                 31783\n",
      "method of dHc2/dT derivation                                    32487\n",
      "#NAME?                                                          31918\n",
      "-slope in Hc2 vs T at Tc for single crystal for H //ab-plane    32771\n",
      "-slope in Hc2 vs T at Tc for single crystal for H //c-axis      32757\n",
      "figure number for Hirr(T), irreversibility field                31216\n",
      "difinition or method for Hirr                                   33056\n",
      "unit of COHERE                                                  31974\n",
      "method of COHERE derivation                                     32437\n",
      "coherence length at 0 K for poly crystal                        32244\n",
      "coherence length at 0 K for single crystal for H //ab-plane     32647\n",
      "coherence length at 0 K for single crystal for H 竓･ab-plane     32801\n",
      "unit of PENET                                                   32048\n",
      "method of PENET derivation                                      32284\n",
      "penetration depth at 0 K for poly crystal                       32312\n",
      "penetration depth at 0 K for single crystal for H //ab-plane    32682\n",
      "penetration depth at 0 K for single crystal for H竓･ab-plane     32942\n",
      "unit of energy gap                                              32663\n",
      "energy gap at 0 K , delta(0)                                    32590\n",
      "normarized energy gap at 0 K , 2delta(0)/kTc                    32082\n",
      "method of measuring energy gap                                  32256\n",
      "Jc at 4.2 K, H = 0 T                                            33028\n",
      "Jc at T = 77 K, H = 0 T                                         33021\n",
      "figure number for Jc(T,H)                                       32992\n",
      "graph number of specific heat                                   32559\n",
      "unit of SPJUMP                                                  32960\n",
      "specific heat jump at Tc (delta-C)                              32944\n",
      "unit of GAMMA                                                   30846\n",
      "coefficient of electronic specific heat                         30584\n",
      "comment for derivation of GAMMA                                 31790\n",
      "Debye temperature                                               31227\n",
      "method for derivation of Debye temperature                      32065\n",
      "unit of thermal conductivity                                    32945\n",
      "thermal conductivity at 300 K                                   32987\n",
      "thermal conductivity at 300 K for heat flow//c-axis             33068\n",
      "thermal conductivity at 300 K for heat flow//ab-plane           33067\n",
      "graph number for thermal conductivity                           32844\n",
      "unit of thermopower                                             32299\n",
      "thermopower at 300 K                                            31957\n",
      "thermopower at 300 K for normal to ab-plane                     33075\n",
      "thermopower at 300 K for parallel to ab-plane                   33062\n",
      "graph number for thermopower                                    32107\n",
      "unit of resistivity                                             30948\n",
      "resistivity at 4.2 K for poly crystal                           32906\n",
      "resistivity at 4.2 K for single crystal for J//ab-plane         33030\n",
      "resistivity at 4.2 K for single crystal for J//c-axis           33065\n",
      "resistivity at 77 K for poly crystal                            32792\n",
      "resistivity at 77 K for single crystal for J//ab-plane          32918\n",
      "resistivity at 77 K for single crystal for J//c-axis            33033\n",
      "resistivity at normal-T for poly crystal                        32047\n",
      "resistivity at normal-T for single crystal for J//ab-plane      32851\n",
      "resistivity at normal-T for single crystal for J//c-axis        33012\n",
      "normal temperature                                              33063\n",
      "resistivity at RT for poly crystal                              31425\n",
      "resistivity at RT for single crystal for J//ab-plane            32743\n",
      "resistivity at RT for single crystal for J//c-axis              32959\n",
      "unit of RH300                                                   32699\n",
      "Hall coefficient at 300 K                                       32544\n",
      "Hall coefficient at 300 K for single, H//c-axis                 33050\n",
      "Hall coefficient at 300 K for single, H//ab-plane               33067\n",
      "Hall coefficient for single, H//c-axis                          32930\n",
      "magnetic field for Hall effect                                  32935\n",
      "graph number for Hall coefficient                               32454\n",
      "unit of carrier density                                         32775\n",
      "carrier density at 300 K                                        32750\n",
      "raw materials                                                   25169\n",
      "*preparation method                                             25619\n",
      "preparation comments                                            12121\n",
      "preparation method for film                                     33004\n",
      "substrate                                                       33056\n",
      "target material                                                 33044\n",
      "process comments                                                32322\n",
      "title of reference                                               2299\n",
      "month of reference                                              22767\n",
      "keyword                                                         30901\n",
      "institute                                                        9755\n",
      "journal                                                           106\n",
      "author                                                             84\n",
      "sample                                                          25596\n",
      "comments                                                        32867\n",
      "dtype: int64\n"
     ]
    }
   ],
   "source": [
    "#まずsuperconのデータを適当に分析する\n",
    "\n",
    "SC_data = pd.read_csv(\"/workspaces/mat2vec_codespace/main_code/20240322_Supercon_data_allstr_handedited.csv\", encoding='utf-8')\n",
    "missing_values = SC_data.isnull().sum()\n",
    "print(missing_values)"
   ]
  },
  {
   "cell_type": "code",
   "execution_count": 21,
   "metadata": {},
   "outputs": [],
   "source": [
    "crab_input_data = SC_data.loc[:, [\"chemical formula\", \"Tc (of this sample) recommended\", \"oxygen\", \"common formula of oxygen\", \"measured value of Oxygen content\", \"title of reference\"]].rename(columns={\"chemical formula\": \"formula\", \"Tc (of this sample) recommended\": \"Tc\"})"
   ]
  },
  {
   "cell_type": "code",
   "execution_count": 22,
   "metadata": {},
   "outputs": [],
   "source": [
    "crab_input_data = crab_input_data[crab_input_data[\"Tc\"].notna()]\n",
    "crab_input_data = crab_input_data.iloc[1:, :]"
   ]
  },
  {
   "cell_type": "code",
   "execution_count": 8,
   "metadata": {},
   "outputs": [],
   "source": [
    "#現状判明していることとして、酸素数関連のデータに問題がいろいろとあるので\n",
    "#酸素がある物質については酸素の具体的な量が乗っているデータは組成式にそれを組み込んで\n",
    "#使ってないデータは消す方針でいったん動く\n",
    "#まず酸化物とそうでないものを分ける"
   ]
  },
  {
   "cell_type": "code",
   "execution_count": 23,
   "metadata": {},
   "outputs": [],
   "source": [
    "NonOxide_SC_data = crab_input_data[crab_input_data[\"oxygen\"].isna()].drop(columns=[\"oxygen\", \"common formula of oxygen\", \"measured value of Oxygen content\"])\n",
    "Oxide_SC_data = crab_input_data[crab_input_data[\"oxygen\"].notna()]"
   ]
  },
  {
   "cell_type": "code",
   "execution_count": 24,
   "metadata": {},
   "outputs": [],
   "source": [
    "#measured valueがある場合\n",
    "measured_value_of_Oxygen_index = Oxide_SC_data.loc[:, \"measured value of Oxygen content\"].notna()\n",
    "Oxide_SC_data.loc[measured_value_of_Oxygen_index, \"value of oxygen\"] = Oxide_SC_data.loc[measured_value_of_Oxygen_index, \"measured value of Oxygen content\"]\n"
   ]
  },
  {
   "cell_type": "code",
   "execution_count": 25,
   "metadata": {},
   "outputs": [],
   "source": [
    "#measured valueがないがcommon formulaに数字がある場合\n",
    "common_value_of_Oxygen_index = Oxide_SC_data.loc[:, \"measured value of Oxygen content\"].isna() & Oxide_SC_data.loc[:, \"common formula of oxygen\"].str.isdigit()\n",
    "Oxide_SC_data.loc[common_value_of_Oxygen_index, \"value of oxygen\"] = Oxide_SC_data.loc[common_value_of_Oxygen_index, \"common formula of oxygen\"]"
   ]
  },
  {
   "cell_type": "code",
   "execution_count": 26,
   "metadata": {},
   "outputs": [],
   "source": [
    "final_Oxide_SC_data = Oxide_SC_data.drop(columns=[\"oxygen\", \"common formula of oxygen\", \"measured value of Oxygen content\"])\n",
    "final_Oxide_SC_data = final_Oxide_SC_data[final_Oxide_SC_data[\"value of oxygen\"].notna()]"
   ]
  },
  {
   "cell_type": "code",
   "execution_count": 27,
   "metadata": {},
   "outputs": [],
   "source": [
    "new_SC_data = pd.concat([final_Oxide_SC_data, NonOxide_SC_data], axis = 0).drop(columns=[\"value of oxygen\"]).reset_index(drop = True)"
   ]
  },
  {
   "cell_type": "code",
   "execution_count": 28,
   "metadata": {},
   "outputs": [],
   "source": [
    "new_SC_data[\"Tc\"] = new_SC_data[\"Tc\"].astype(float)"
   ]
  },
  {
   "cell_type": "code",
   "execution_count": 29,
   "metadata": {},
   "outputs": [],
   "source": [
    "pd.set_option('display.max_colwidth', 500)"
   ]
  },
  {
   "cell_type": "code",
   "execution_count": 12,
   "metadata": {},
   "outputs": [
    {
     "ename": "NameError",
     "evalue": "name 'final_SC_data' is not defined",
     "output_type": "error",
     "traceback": [
      "\u001b[0;31m---------------------------------------------------------------------------\u001b[0m",
      "\u001b[0;31mNameError\u001b[0m                                 Traceback (most recent call last)",
      "\u001b[0;32m/tmp/ipykernel_25706/614577994.py\u001b[0m in \u001b[0;36m<module>\u001b[0;34m\u001b[0m\n\u001b[0;32m----> 1\u001b[0;31m \u001b[0mdisplay\u001b[0m\u001b[0;34m(\u001b[0m\u001b[0mfinal_SC_data\u001b[0m\u001b[0;34m.\u001b[0m\u001b[0mhead\u001b[0m\u001b[0;34m(\u001b[0m\u001b[0;36m50\u001b[0m\u001b[0;34m)\u001b[0m\u001b[0;34m)\u001b[0m\u001b[0;34m\u001b[0m\u001b[0;34m\u001b[0m\u001b[0m\n\u001b[0m",
      "\u001b[0;31mNameError\u001b[0m: name 'final_SC_data' is not defined"
     ]
    }
   ],
   "source": [
    "display(final_SC_data.head(50))"
   ]
  },
  {
   "cell_type": "code",
   "execution_count": 30,
   "metadata": {},
   "outputs": [],
   "source": [
    "new_SC_data = new_SC_data.sort_values(\"Tc\", ascending = False)"
   ]
  },
  {
   "cell_type": "code",
   "execution_count": 31,
   "metadata": {},
   "outputs": [],
   "source": [
    "check_words = [\"pressure\", \"gpa\", \"mbar\"]"
   ]
  },
  {
   "cell_type": "code",
   "execution_count": 32,
   "metadata": {},
   "outputs": [],
   "source": [
    "high_pressure_data = new_SC_data[\"title of reference\"].astype(str).apply(lambda x: any(word.lower() in x.lower() for word in check_words))\n",
    "not_high_pressure_data = ~high_pressure_data"
   ]
  },
  {
   "cell_type": "code",
   "execution_count": 33,
   "metadata": {},
   "outputs": [],
   "source": [
    "final_SC_data = new_SC_data[not_high_pressure_data].iloc[5:, :].drop(columns = [\"title of reference\"])"
   ]
  },
  {
   "cell_type": "code",
   "execution_count": 34,
   "metadata": {},
   "outputs": [],
   "source": [
    "final_SC_data.to_csv(\"/workspaces/mat2vec_codespace/main_code/final_SC_X_data.csv\", index = False)"
   ]
  }
 ],
 "metadata": {
  "kernelspec": {
   "display_name": ".venv",
   "language": "python",
   "name": "python3"
  },
  "language_info": {
   "codemirror_mode": {
    "name": "ipython",
    "version": 3
   },
   "file_extension": ".py",
   "mimetype": "text/x-python",
   "name": "python",
   "nbconvert_exporter": "python",
   "pygments_lexer": "ipython3",
   "version": "3.7.17"
  }
 },
 "nbformat": 4,
 "nbformat_minor": 2
}
